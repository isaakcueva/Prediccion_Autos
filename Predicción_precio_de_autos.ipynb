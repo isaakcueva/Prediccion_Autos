{
  "nbformat": 4,
  "nbformat_minor": 0,
  "metadata": {
    "colab": {
      "provenance": []
    },
    "kernelspec": {
      "name": "python3",
      "display_name": "Python 3"
    },
    "language_info": {
      "name": "python"
    }
  },
  "cells": [
    {
      "cell_type": "markdown",
      "source": [
        "#Tarea: Predicción Precio de Autos\n",
        "\n",
        "# Nombre: Isaac Cueva\n",
        "\n",
        "# Fecha: 14/05/2025"
      ],
      "metadata": {
        "id": "0jYkbp4bOytn"
      }
    },
    {
      "cell_type": "markdown",
      "source": [
        "![Descripción de la imagen](https://encrypted-tbn0.gstatic.com/images?q=tbn:ANd9GcRP9d63jC144Usqa_NjecnoWcJXV60JuFTJLA&s)"
      ],
      "metadata": {
        "id": "aZty1qA3PQOY"
      }
    },
    {
      "cell_type": "markdown",
      "source": [
        "#Google Colab Setup"
      ],
      "metadata": {
        "id": "IsyZNW1GPUql"
      }
    },
    {
      "cell_type": "code",
      "execution_count": 1,
      "metadata": {
        "colab": {
          "base_uri": "https://localhost:8080/"
        },
        "id": "oJT3B5avXpDS",
        "outputId": "bba1eaf4-c8f0-4bc4-8e12-820e8f866840"
      },
      "outputs": [
        {
          "output_type": "stream",
          "name": "stdout",
          "text": [
            "Requirement already satisfied: pyspark in /usr/local/lib/python3.11/dist-packages (3.5.1)\n",
            "Requirement already satisfied: py4j==0.10.9.7 in /usr/local/lib/python3.11/dist-packages (from pyspark) (0.10.9.7)\n",
            "Collecting findspark\n",
            "  Downloading findspark-2.0.1-py2.py3-none-any.whl.metadata (352 bytes)\n",
            "Downloading findspark-2.0.1-py2.py3-none-any.whl (4.4 kB)\n",
            "Installing collected packages: findspark\n",
            "Successfully installed findspark-2.0.1\n"
          ]
        }
      ],
      "source": [
        "# Installing required packages\n",
        "!pip install pyspark\n",
        "!pip install findspark"
      ]
    },
    {
      "cell_type": "code",
      "source": [
        "# PySpark is the Spark API for Python. In this lab, we use PySpark to initialize the spark context.\n",
        "from pyspark import SparkContext, SparkConf\n",
        "from pyspark.sql import SparkSession\n",
        "# Provides findspark.init() to make pyspark importable as a regular library.\n",
        "import findspark\n",
        "findspark.init()"
      ],
      "metadata": {
        "id": "6qwacHGEPd1b"
      },
      "execution_count": 2,
      "outputs": []
    },
    {
      "cell_type": "code",
      "source": [
        "# Creating a spark context class\n",
        "sc = SparkContext()\n",
        "\n",
        "# Creating a spark session\n",
        "spark = SparkSession \\\n",
        "    .builder \\\n",
        "    .appName(\"Predicción de Autos\") \\\n",
        "    .config(\"spark.some.config.option\", \"some-value\") \\\n",
        "    .getOrCreate()"
      ],
      "metadata": {
        "id": "zESf3cUrPhaJ"
      },
      "execution_count": 3,
      "outputs": []
    },
    {
      "cell_type": "code",
      "source": [
        "spark"
      ],
      "metadata": {
        "colab": {
          "base_uri": "https://localhost:8080/",
          "height": 219
        },
        "id": "R5v2Wl_iPkDl",
        "outputId": "d6c13d70-7fe3-4e92-b7a7-e7cdf698a21b"
      },
      "execution_count": 4,
      "outputs": [
        {
          "output_type": "execute_result",
          "data": {
            "text/plain": [
              "<pyspark.sql.session.SparkSession at 0x7d28fcbf1d90>"
            ],
            "text/html": [
              "\n",
              "            <div>\n",
              "                <p><b>SparkSession - in-memory</b></p>\n",
              "                \n",
              "        <div>\n",
              "            <p><b>SparkContext</b></p>\n",
              "\n",
              "            <p><a href=\"http://5c0fee3c4df3:4040\">Spark UI</a></p>\n",
              "\n",
              "            <dl>\n",
              "              <dt>Version</dt>\n",
              "                <dd><code>v3.5.1</code></dd>\n",
              "              <dt>Master</dt>\n",
              "                <dd><code>local[*]</code></dd>\n",
              "              <dt>AppName</dt>\n",
              "                <dd><code>pyspark-shell</code></dd>\n",
              "            </dl>\n",
              "        </div>\n",
              "        \n",
              "            </div>\n",
              "        "
            ]
          },
          "metadata": {},
          "execution_count": 4
        }
      ]
    },
    {
      "cell_type": "markdown",
      "source": [
        "#TAREAS"
      ],
      "metadata": {
        "id": "CnmuHQ4cPmAJ"
      }
    },
    {
      "cell_type": "markdown",
      "source": [
        "El conjunto de datos que se adjunta contiene información de marca, modelo, año de fabricación, precio, tipo de transmisión, kilometraje, tipo de combustible, impuesto de circulación, consumo en millas por galón (mpg) y tamaño del motor. Estos datos corresponden a ofertas de autos usados, listados en la web, en el Reino Unido.\n",
        "\n",
        "Con los datos adjuntos, cree una jupyter notebook y complete las siguientes tarea:\n",
        "\n",
        "1. Cree un dataframe de Spark que consolide toda la data."
      ],
      "metadata": {
        "id": "2AL2uH4bPqOA"
      }
    },
    {
      "cell_type": "code",
      "source": [
        "from pyspark.sql.functions import lit\n",
        "\n",
        "# Cargar los CSVs\n",
        "bmw_df = spark.read.csv(\"bmw.csv\", header=True, inferSchema=True)\n",
        "ford_df = spark.read.csv(\"ford.csv\", header=True, inferSchema=True)\n",
        "hyundi_df = spark.read.csv(\"hyundi.csv\", header=True, inferSchema=True)\n",
        "merc_df = spark.read.csv(\"merc.csv\", header=True, inferSchema=True)\n",
        "skoda_df = spark.read.csv(\"skoda.csv\", header=True, inferSchema=True)\n",
        "toyota_df = spark.read.csv(\"toyota.csv\", header=True, inferSchema=True)\n",
        "vauxhall_df = spark.read.csv(\"vauxhall.csv\", header=True, inferSchema=True)\n",
        "vw_df = spark.read.csv(\"vw.csv\", header=True, inferSchema=True)\n",
        "audi_df = spark.read.csv(\"audi.csv\", header=True, inferSchema=True)\n",
        "\n",
        "# Función para renombrar la columna 'tax(£)' a 'tax' si existe\n",
        "def rename_tax_column(df):\n",
        "    if 'tax(£)' in df.columns:\n",
        "        df = df.withColumnRenamed('tax(£)', 'tax')\n",
        "    return df\n",
        "\n",
        "# Aplicar renombramiento a cada DataFrame\n",
        "bmw_df = rename_tax_column(bmw_df)\n",
        "ford_df = rename_tax_column(ford_df)\n",
        "hyundi_df = rename_tax_column(hyundi_df)\n",
        "merc_df = rename_tax_column(merc_df)\n",
        "skoda_df = rename_tax_column(skoda_df)\n",
        "toyota_df = rename_tax_column(toyota_df)\n",
        "vauxhall_df = rename_tax_column(vauxhall_df)\n",
        "vw_df = rename_tax_column(vw_df)\n",
        "audi_df = rename_tax_column(audi_df)\n",
        "\n",
        "# Agregar columna \"marca\" con el nombre correspondiente\n",
        "bmw_df = bmw_df.withColumn(\"marca\", lit(\"bmw\"))\n",
        "ford_df = ford_df.withColumn(\"marca\", lit(\"ford\"))\n",
        "hyundi_df = hyundi_df.withColumn(\"marca\", lit(\"hyundi\"))\n",
        "merc_df = merc_df.withColumn(\"marca\", lit(\"merc\"))\n",
        "skoda_df = skoda_df.withColumn(\"marca\", lit(\"skoda\"))\n",
        "toyota_df = toyota_df.withColumn(\"marca\", lit(\"toyota\"))\n",
        "vauxhall_df = vauxhall_df.withColumn(\"marca\", lit(\"vauxhall\"))\n",
        "vw_df = vw_df.withColumn(\"marca\", lit(\"vw\"))\n",
        "audi_df = audi_df.withColumn(\"marca\", lit(\"audi\"))\n",
        "\n",
        "# Unir todos los DataFrames\n",
        "from functools import reduce\n",
        "from pyspark.sql import DataFrame\n",
        "\n",
        "dfs = [bmw_df, ford_df, hyundi_df, merc_df, skoda_df, toyota_df, vauxhall_df, vw_df, audi_df]\n",
        "\n",
        "def union_all(dfs):\n",
        "    return reduce(DataFrame.unionByName, dfs)\n",
        "\n",
        "autos_df = union_all(dfs)\n",
        "\n",
        "# Mostrar esquema y algunas filas para verificar\n",
        "autos_df.printSchema()\n",
        "autos_df.show(5)\n"
      ],
      "metadata": {
        "colab": {
          "base_uri": "https://localhost:8080/"
        },
        "id": "JNypXv7pPmRI",
        "outputId": "c8642154-3001-4098-d0b1-41921d6523d0"
      },
      "execution_count": 8,
      "outputs": [
        {
          "output_type": "stream",
          "name": "stdout",
          "text": [
            "root\n",
            " |-- model: string (nullable = true)\n",
            " |-- year: integer (nullable = true)\n",
            " |-- price: integer (nullable = true)\n",
            " |-- transmission: string (nullable = true)\n",
            " |-- mileage: integer (nullable = true)\n",
            " |-- fuelType: string (nullable = true)\n",
            " |-- tax: integer (nullable = true)\n",
            " |-- mpg: double (nullable = true)\n",
            " |-- engineSize: double (nullable = true)\n",
            " |-- marca: string (nullable = false)\n",
            "\n",
            "+---------+----+-----+------------+-------+--------+---+----+----------+-----+\n",
            "|    model|year|price|transmission|mileage|fuelType|tax| mpg|engineSize|marca|\n",
            "+---------+----+-----+------------+-------+--------+---+----+----------+-----+\n",
            "| 5 Series|2014|11200|   Automatic|  67068|  Diesel|125|57.6|       2.0|  bmw|\n",
            "| 6 Series|2018|27000|   Automatic|  14827|  Petrol|145|42.8|       2.0|  bmw|\n",
            "| 5 Series|2016|16000|   Automatic|  62794|  Diesel|160|51.4|       3.0|  bmw|\n",
            "| 1 Series|2017|12750|   Automatic|  26676|  Diesel|145|72.4|       1.5|  bmw|\n",
            "| 7 Series|2014|14500|   Automatic|  39554|  Diesel|160|50.4|       3.0|  bmw|\n",
            "+---------+----+-----+------------+-------+--------+---+----+----------+-----+\n",
            "only showing top 5 rows\n",
            "\n"
          ]
        }
      ]
    },
    {
      "cell_type": "markdown",
      "source": [
        "2. Realice todo el pre-procesamiento de los datos que sean necesarios. No es necesario que se eliminen outliers."
      ],
      "metadata": {
        "id": "4_8Ot_SVRdfU"
      }
    },
    {
      "cell_type": "markdown",
      "source": [
        "- Valores Nulos"
      ],
      "metadata": {
        "id": "RaSSt6ObSfCh"
      }
    },
    {
      "cell_type": "code",
      "source": [
        "from pyspark.sql.functions import col, isnan, when, count\n",
        "from pyspark.ml.feature import StringIndexer, OneHotEncoder, VectorAssembler\n",
        "from pyspark.ml import Pipeline\n",
        "\n",
        "# 1. Revisar cantidad de valores nulos por columna\n",
        "autos_df.select([count(when(col(c).isNull() | isnan(col(c)), c)).alias(c) for c in autos_df.columns]).show()\n"
      ],
      "metadata": {
        "colab": {
          "base_uri": "https://localhost:8080/"
        },
        "id": "Qzc5r6sJReHA",
        "outputId": "aace029b-c739-4f64-e238-5c8223766f66"
      },
      "execution_count": 9,
      "outputs": [
        {
          "output_type": "stream",
          "name": "stdout",
          "text": [
            "+-----+----+-----+------------+-------+--------+---+---+----------+-----+\n",
            "|model|year|price|transmission|mileage|fuelType|tax|mpg|engineSize|marca|\n",
            "+-----+----+-----+------------+-------+--------+---+---+----------+-----+\n",
            "|    0|   0|    0|           0|      0|       0|  0|  0|         0|    0|\n",
            "+-----+----+-----+------------+-------+--------+---+---+----------+-----+\n",
            "\n"
          ]
        }
      ]
    },
    {
      "cell_type": "markdown",
      "source": [
        "- Duplicados"
      ],
      "metadata": {
        "id": "V67o4gkfS3Ro"
      }
    },
    {
      "cell_type": "code",
      "source": [
        "#Contar valores duplicados (filas idénticas)\n",
        "duplicados_count = autos_df.count() - autos_df.dropDuplicates().count()\n",
        "print(f\"Total de filas duplicadas: {duplicados_count}\")"
      ],
      "metadata": {
        "colab": {
          "base_uri": "https://localhost:8080/"
        },
        "id": "9afoVYfKS4S4",
        "outputId": "494fc74d-aa42-4007-caec-d165154db7cc"
      },
      "execution_count": 11,
      "outputs": [
        {
          "output_type": "stream",
          "name": "stdout",
          "text": [
            "Total de filas duplicadas: 1475\n"
          ]
        }
      ]
    },
    {
      "cell_type": "code",
      "source": [
        "total_filas = autos_df.count()\n",
        "print(f\"Total de filas en el DataFrame: {total_filas}\")\n"
      ],
      "metadata": {
        "colab": {
          "base_uri": "https://localhost:8080/"
        },
        "id": "pRdQAS3GTYp_",
        "outputId": "f56df59b-e236-4a70-beaf-3184701bd3bd"
      },
      "execution_count": 12,
      "outputs": [
        {
          "output_type": "stream",
          "name": "stdout",
          "text": [
            "Total de filas en el DataFrame: 99187\n"
          ]
        }
      ]
    },
    {
      "cell_type": "code",
      "source": [
        "autos_df = autos_df.dropDuplicates()\n"
      ],
      "metadata": {
        "id": "KCVPf4NDTfQq"
      },
      "execution_count": 13,
      "outputs": []
    },
    {
      "cell_type": "markdown",
      "source": [
        "- Definir Variables\n"
      ],
      "metadata": {
        "id": "zLerD1VMUhyJ"
      }
    },
    {
      "cell_type": "code",
      "source": [
        "#Definir columnas categóricas y numéricas\n",
        "categorical_cols = ['transmission', 'fuelType', 'marca']\n",
        "numeric_cols = ['year', 'mileage', 'tax', 'mpg', 'engineSize']"
      ],
      "metadata": {
        "id": "eZj40e1jUi9u"
      },
      "execution_count": 14,
      "outputs": []
    },
    {
      "cell_type": "markdown",
      "source": [
        "- Transformación de Variables"
      ],
      "metadata": {
        "id": "KUpyVJEEUxDN"
      }
    },
    {
      "cell_type": "code",
      "source": [
        "#Crear StringIndexers para variables categóricas\n",
        "indexers = [StringIndexer(inputCol=col, outputCol=col + \"_idx\", handleInvalid='keep') for col in categorical_cols]\n",
        "\n",
        "#OneHotEncoder para convertir índices en variables dummy\n",
        "encoder = OneHotEncoder(inputCols=[col + \"_idx\" for col in categorical_cols],\n",
        "                        outputCols=[col + \"_oh\" for col in categorical_cols])\n",
        "\n",
        "#VectorAssembler para unir numéricas + variables dummy en 'features'\n",
        "assembler = VectorAssembler(inputCols=numeric_cols + [col + \"_oh\" for col in categorical_cols],\n",
        "                            outputCol=\"features\")"
      ],
      "metadata": {
        "id": "4zs7c_FbUzJX"
      },
      "execution_count": 15,
      "outputs": []
    },
    {
      "cell_type": "markdown",
      "source": [
        "- Ejecutar Pipeline en todo el dataset"
      ],
      "metadata": {
        "id": "aOIFMjRoU8Jg"
      }
    },
    {
      "cell_type": "code",
      "source": [
        "#Crear Pipeline con los pasos: indexers -> encoder -> assembler\n",
        "pipeline = Pipeline(stages=indexers + [encoder, assembler])\n",
        "\n",
        "#Ajustar pipeline y transformar DataFrame\n",
        "autos_prepared = pipeline.fit(autos_df).transform(autos_df)\n",
        "\n",
        "#Mostrar resultado para verificar\n",
        "autos_prepared.select(\"features\", \"price\").show(5, truncate=False)"
      ],
      "metadata": {
        "colab": {
          "base_uri": "https://localhost:8080/"
        },
        "id": "4IDvpweTU8o_",
        "outputId": "83710e0f-bfd0-4515-e8b0-a6c47c76181a"
      },
      "execution_count": 16,
      "outputs": [
        {
          "output_type": "stream",
          "name": "stdout",
          "text": [
            "+--------------------------------------------------------------------+-----+\n",
            "|features                                                            |price|\n",
            "+--------------------------------------------------------------------+-----+\n",
            "|(23,[0,1,2,3,4,5,9,18],[2019.0,3000.0,145.0,41.5,1.5,1.0,1.0,1.0])  |25898|\n",
            "|(23,[0,1,2,3,4,6,10,18],[2018.0,5600.0,145.0,49.6,2.0,1.0,1.0,1.0]) |19990|\n",
            "|(23,[0,1,3,4,6,10,18],[2016.0,31879.0,78.5,1.5,1.0,1.0,1.0])        |12998|\n",
            "|(23,[0,1,2,3,4,7,10,18],[2016.0,39563.0,30.0,65.7,2.0,1.0,1.0,1.0]) |16380|\n",
            "|(23,[0,1,2,3,4,6,10,18],[2018.0,20369.0,145.0,60.1,2.0,1.0,1.0,1.0])|21498|\n",
            "+--------------------------------------------------------------------+-----+\n",
            "only showing top 5 rows\n",
            "\n"
          ]
        }
      ]
    },
    {
      "cell_type": "markdown",
      "source": [
        "3. Divida el dataframe en datos de entrenamiento y datos de evaluación (80/20)."
      ],
      "metadata": {
        "id": "zacE8BONVnpE"
      }
    },
    {
      "cell_type": "code",
      "source": [
        "# Renombrar 'price' a 'label' para que el modelo lo reconozca como variable objetivo\n",
        "autos_prepared = autos_prepared.withColumnRenamed(\"price\", \"label\")\n",
        "\n",
        "# Dividir en 80% entrenamiento y 20% evaluación\n",
        "train_df, test_df = autos_prepared.randomSplit([0.8, 0.2], seed=42)\n",
        "\n",
        "# Verificar tamaños\n",
        "print(f\"Filas en entrenamiento: {train_df.count()}\")\n",
        "print(f\"Filas en evaluación: {test_df.count()}\")\n"
      ],
      "metadata": {
        "colab": {
          "base_uri": "https://localhost:8080/"
        },
        "id": "jp9N34O3VpT2",
        "outputId": "e3980d5e-d6ce-49e1-f0da-c557ab324062"
      },
      "execution_count": 17,
      "outputs": [
        {
          "output_type": "stream",
          "name": "stdout",
          "text": [
            "Filas en entrenamiento: 78266\n",
            "Filas en evaluación: 19446\n"
          ]
        }
      ]
    },
    {
      "cell_type": "markdown",
      "source": [
        "4. Genere un modelo de regresión multilineal para predecir el precio de los autos."
      ],
      "metadata": {
        "id": "7KHX5WaTWKIO"
      }
    },
    {
      "cell_type": "code",
      "source": [
        "from pyspark.ml.regression import LinearRegression\n",
        "\n",
        "# Crear el modelo de regresión lineal\n",
        "lr = LinearRegression(featuresCol=\"features\", labelCol=\"label\")\n",
        "\n",
        "# Entrenar el modelo con el dataset de entrenamiento\n",
        "lr_model = lr.fit(train_df)\n",
        "\n",
        "# Mostrar coeficientes e intercepto\n",
        "print(\"Coeficientes:\", lr_model.coefficients)\n",
        "print(\"Intercepto:\", lr_model.intercept)\n"
      ],
      "metadata": {
        "colab": {
          "base_uri": "https://localhost:8080/"
        },
        "id": "fHAtASZvWHj1",
        "outputId": "78de1f8f-9149-492d-b254-e04fbf2c7729"
      },
      "execution_count": 18,
      "outputs": [
        {
          "output_type": "stream",
          "name": "stdout",
          "text": [
            "Coeficientes: [1496.534048417779,-0.0945050939518299,-3.2037993101880526,-56.36015305116176,9408.185400961025,-1246.2507694198057,1100.1318226282474,688.7447243753692,26.08142829761308,305.932104784459,-843.2997574936118,3877.947855434337,3622.385621018445,17261.886104379613,-429.0830897998381,352.01187413245407,-3447.219517443363,3057.498146560578,1043.9729261987761,3364.0164000531695,-2922.8296635660213,-1108.597104810715,-2212.469599453878]\n",
            "Intercepto: -3011450.072881228\n"
          ]
        }
      ]
    },
    {
      "cell_type": "markdown",
      "source": [
        "5. Calcule el valor de MSE y R^2 del modelo."
      ],
      "metadata": {
        "id": "hAVm18G7WTan"
      }
    },
    {
      "cell_type": "code",
      "source": [
        "from pyspark.ml.evaluation import RegressionEvaluator\n",
        "\n",
        "# Usar el modelo para predecir sobre el conjunto de prueba\n",
        "predictions = lr_model.transform(test_df)\n",
        "\n",
        "# Crear evaluador para MSE\n",
        "evaluator_mse = RegressionEvaluator(labelCol=\"label\", predictionCol=\"prediction\", metricName=\"mse\")\n",
        "mse = evaluator_mse.evaluate(predictions)\n",
        "\n",
        "# Crear evaluador para R2\n",
        "evaluator_r2 = RegressionEvaluator(labelCol=\"label\", predictionCol=\"prediction\", metricName=\"r2\")\n",
        "r2 = evaluator_r2.evaluate(predictions)\n",
        "\n",
        "print(f\"Error cuadrático medio (MSE): {mse}\")\n",
        "print(f\"Coeficiente de determinación (R²): {r2}\")\n"
      ],
      "metadata": {
        "colab": {
          "base_uri": "https://localhost:8080/"
        },
        "id": "bQE-PJugWULH",
        "outputId": "9307ace1-1557-4532-dca3-6b57f633eb4e"
      },
      "execution_count": 19,
      "outputs": [
        {
          "output_type": "stream",
          "name": "stdout",
          "text": [
            "Error cuadrático medio (MSE): 22696920.328210548\n",
            "Coeficiente de determinación (R²): 0.7664911739703498\n"
          ]
        }
      ]
    },
    {
      "cell_type": "markdown",
      "source": [
        "6. Genere un modelo de regresión polinomial de grado 2 (multivariable) para predecir el precio de los autos."
      ],
      "metadata": {
        "id": "IinMtExEXK6Y"
      }
    },
    {
      "cell_type": "code",
      "source": [
        "from pyspark.ml.feature import PolynomialExpansion\n",
        "from pyspark.ml.regression import LinearRegression\n",
        "\n",
        "# Crear expansión polinomial de grado 2\n",
        "polyExpansion = PolynomialExpansion(degree=2, inputCol=\"features\", outputCol=\"polyFeatures\")\n",
        "\n",
        "# Transformar el dataset de entrenamiento para agregar las características polinomiales\n",
        "train_poly = polyExpansion.transform(train_df)\n",
        "test_poly = polyExpansion.transform(test_df)\n",
        "\n",
        "# Crear y entrenar el modelo de regresión lineal con las características polinomiales\n",
        "lr_poly = LinearRegression(featuresCol=\"polyFeatures\", labelCol=\"label\")\n",
        "lr_poly_model = lr_poly.fit(train_poly)\n",
        "\n",
        "# Mostrar coeficientes e intercepto del modelo polinomial\n",
        "print(\"Coeficientes polinomiales grado 2:\", lr_poly_model.coefficients)\n",
        "print(\"Intercepto polinomial grado 2:\", lr_poly_model.intercept)\n"
      ],
      "metadata": {
        "colab": {
          "base_uri": "https://localhost:8080/"
        },
        "id": "ts8iWRtkXIvA",
        "outputId": "4184c7f0-b371-40f0-e70a-2d7701bdaca5"
      },
      "execution_count": 20,
      "outputs": [
        {
          "output_type": "stream",
          "name": "stdout",
          "text": [
            "Coeficientes polinomiales grado 2: [572.1600579968283,0.16980844849522708,0.015610825868827748,5.201875806136374e-06,7.139476395064945e-07,6.150687788311893,0.0029868855412994192,2.22451379548923e-06,0.0541310506028858,-3.909196927287365,-0.0015216260679543488,-1.919281148642298e-05,-0.06394444598815828,-0.2043503780497102,3546.240351247642,1.8893900388900657,-0.10969536954510313,-19.937003828015058,-110.00474510550451,1718.6443845511913,-1877.1648456441599,-1.0218912623029373,0.018126076059687236,6.978995839500162,94.6205445797868,1926.9515787304958,-1877.1648456604748,1166.6427337843236,0.6535203710074999,-0.006486097577033363,-0.9958499630030652,-55.09654209758411,536.4793810641281,0.0,1166.6427338100953,1568.9232743109017,0.8371605913061434,0.000595203185251161,-1.879594075016725,-81.81994418484076,-591.3571084752256,0.0,0.0,1568.9232743303726,-74.81544373240523,-0.03691883838965228,-0.008287232144342583,8.821270966452033,-7.698525300572875,-1000.3321243809733,0.0,0.0,0.0,-74.81544372387128,495.6973764322023,0.18383896402874197,0.009000571837579806,-3.2088118789993936,-117.15772603141701,56.581056753441956,-432.5092015434319,924.829742018818,2252.49172324798,747.4116126101615,495.6973764045786,370.7449692054275,0.2482177029199958,0.01321593451210726,6.338685867253715,-50.820408407823926,229.5259584024979,-2392.284035967005,1423.6077997583002,3007.2252197402618,-1866.1826553207247,0.0,370.74496917836615,-6394.420590421615,-3.1584108195517686,-0.03761382018527696,37.69092503541441,341.4756934833014,7719.034192190508,-6115.944004451777,-10460.014070954989,-5865.712871533601,-3120.3796228032115,0.0,0.0,-6394.420590416879,-6942.100898607335,-3.4512543522196393,-0.06042452243991298,26.802173232786195,393.03649560857866,8765.047517829986,-10262.948020846798,-12571.729241939809,-6452.562896799295,6163.194051136236,0.0,0.0,0.0,-6942.100898621614,10145.784229833143,5.033479107638983,0.11914213788453888,4.084689228145413,87.83257523585812,-10700.492196000327,0.0,0.0,10145.784229830879,0.0,0.0,0.0,0.0,0.0,10145.784229830879,55.9796665355441,-0.001549433803623963,0.014140879325779721,8.21166686375262,46.1257395459768,-3359.861403356348,23.654922335357533,-85.29824995407587,446.03570942182876,0.0,-270.2685172290615,717.1604275984977,-4074.575150959859,-10643.738362503002,-20801.97203280333,55.97966647892558,199.9024924086505,0.0933885690836511,0.019056642230143382,-4.153262846907372,-44.60126918261155,1469.4142684538674,-165.39184568579023,541.0237493219133,1054.639272585999,0.0,987.8568965714319,-786.330007889597,534.2038347940962,-7324.519158335703,0.0,0.0,199.90249238102825,-1843.993779935077,-1.004264701311007,0.03153462232954858,8.790797211242024,133.21478112215766,-1923.250177807458,-1939.648297916406,-782.5848922324884,-795.4282405463721,86.1701051597167,-1588.234029208432,-2283.7441381080416,-55342.814291067996,-11455.88661988104,-16691.03732008877,0.0,0.0,-1843.9937798873511,1075.399395719768,0.6284329879270114,-0.03519265751529531,-0.1168466046892348,-26.80743641309001,1387.154732284153,-2149.1001221904135,1132.762823418089,1760.2754693439708,2148.533149908743,1611.2940445066804,858.1926579012744,-3621.1153809923735,-8486.734823629342,0.0,0.0,0.0,0.0,1075.3993957319221,2645.6884869685946,1.3849443993414665,-0.009358147662395459,0.6230713904371337,-134.32227317075865,-744.4683481033456,424.59745733165744,2555.125612336962,3747.177645789799,0.0,843.1829949475759,3146.13698003724,6552.56946949479,1508.575782189014,54511.085634676405,0.0,0.0,0.0,0.0,2645.6884869577925,-809.5275228966599,-0.3513033362598604,-0.011137771541014037,1.1170097274288946,33.421870821939144,3708.2638857817487,-1828.37152930544,-503.68310719922675,616.1537214169956,0.0,999.5954527993207,-2338.3576968140387,-5289.829989495285,0.0,0.0,0.0,0.0,0.0,0.0,0.0,-809.5275229446484,-1915.67736311342,-1.0148242526256297,0.06731047983602802,-7.152914919549868,39.87737189535184,1851.4706604407093,-3161.848339534691,314.3918788295119,-241.84474137369733,-1913.3591734476054,1943.9262001549653,250.86385017131926,-9094.186372448925,-9435.675891738661,0.0,0.0,0.0,0.0,0.0,0.0,0.0,-1915.6773631377973,-122.44883392070922,-0.07287131228755271,0.006973414534067844,-0.5782883540931416,-13.217631024618411,851.0127832124969,-973.3596907180325,636.8836009351905,1695.9351284905545,1408.6340207543433,329.5007837496859,-958.8546784886368,-2648.8750980337527,-8470.228254558482,0.0,0.0,0.0,0.0,0.0,0.0,0.0,0.0,-122.44883393216772,176.0034280407977,0.048466794504525554,0.018553583182751104,-4.366689066832121,-12.85003421998558,-1876.6234439325972,72.2797680112124,1764.9677402219027,-687.7901435807013,-4327.32033304025,14.642723578383398,1469.900766393779,-4496.765208458927,-4578.883248653241,0.0,0.0,0.0,0.0,0.0,0.0,0.0,0.0,0.0,176.00342804400464]\n",
            "Intercepto polinomial grado 2: -1830852.2101391514\n"
          ]
        }
      ]
    },
    {
      "cell_type": "markdown",
      "source": [
        "7. Calcule el valor de MSE y R^2 del modelo."
      ],
      "metadata": {
        "id": "ApJPlGvNXTmw"
      }
    },
    {
      "cell_type": "code",
      "source": [
        "from pyspark.ml.evaluation import RegressionEvaluator\n",
        "\n",
        "# Predecir con el modelo polinomial sobre conjunto de prueba\n",
        "predictions_poly = lr_poly_model.transform(test_poly)\n",
        "\n",
        "# Evaluador para MSE\n",
        "evaluator_mse = RegressionEvaluator(labelCol=\"label\", predictionCol=\"prediction\", metricName=\"mse\")\n",
        "mse_poly = evaluator_mse.evaluate(predictions_poly)\n",
        "\n",
        "# Evaluador para R2\n",
        "evaluator_r2 = RegressionEvaluator(labelCol=\"label\", predictionCol=\"prediction\", metricName=\"r2\")\n",
        "r2_poly = evaluator_r2.evaluate(predictions_poly)\n",
        "\n",
        "print(f\"MSE modelo polinomial grado 2: {mse_poly}\")\n",
        "print(f\"R² modelo polinomial grado 2: {r2_poly}\")\n"
      ],
      "metadata": {
        "colab": {
          "base_uri": "https://localhost:8080/"
        },
        "id": "fMKPACAsXUZN",
        "outputId": "94c4dd17-d3e2-4734-dea9-62e8cee4ca0f"
      },
      "execution_count": 21,
      "outputs": [
        {
          "output_type": "stream",
          "name": "stdout",
          "text": [
            "MSE modelo polinomial grado 2: 13211241.709513092\n",
            "R² modelo polinomial grado 2: 0.8640810516417066\n"
          ]
        }
      ]
    },
    {
      "cell_type": "markdown",
      "source": [
        "8. Genere un modelo de regresión polinomial de grado 3 (multivariable) para predecir el precio de los autos."
      ],
      "metadata": {
        "id": "F7dK5pVYXaz5"
      }
    },
    {
      "cell_type": "code",
      "source": [
        "from pyspark.ml.feature import PolynomialExpansion\n",
        "from pyspark.ml.regression import LinearRegression\n",
        "\n",
        "# Crear expansión polinomial de grado 3\n",
        "polyExpansion3 = PolynomialExpansion(degree=3, inputCol=\"features\", outputCol=\"polyFeatures3\")\n",
        "\n",
        "# Transformar datasets de entrenamiento y prueba\n",
        "train_poly3 = polyExpansion3.transform(train_df)\n",
        "test_poly3 = polyExpansion3.transform(test_df)\n",
        "\n",
        "# Crear y entrenar el modelo de regresión lineal con características polinomiales grado 3\n",
        "lr_poly3 = LinearRegression(featuresCol=\"polyFeatures3\", labelCol=\"label\")\n",
        "lr_poly3_model = lr_poly3.fit(train_poly3)\n",
        "\n",
        "# Mostrar coeficientes e intercepto\n",
        "print(\"Coeficientes polinomiales grado 3:\", lr_poly3_model.coefficients)\n",
        "print(\"Intercepto polinomial grado 3:\", lr_poly3_model.intercept)\n"
      ],
      "metadata": {
        "colab": {
          "base_uri": "https://localhost:8080/"
        },
        "id": "It8TlXUbX2RD",
        "outputId": "2353ac8a-3038-4246-8795-28c42ac359f4"
      },
      "execution_count": 22,
      "outputs": [
        {
          "output_type": "stream",
          "name": "stdout",
          "text": [
            "Coeficientes polinomiales grado 3: [366.9193759039815,0.09824234557850804,3.486230373677955e-05,-0.010770922364930673,-5.792335538805363e-06,-3.0947617420712227e-09,8.594053175458204e-08,3.9231156466959545e-11,-2.4207651609620738e-12,4.123744683111939,0.002090658610027518,1.061029444911994e-06,-2.174330059005112e-05,-1.2082149730765587e-08,6.1601851559723e-10,-0.006548409479962662,-3.2682414648013948e-06,1.0681255244443269e-07,5.2319555023752515e-05,-25.395150190728895,-0.012610256395323637,-6.256379360039225e-06,0.00024858565887915713,1.1825624736552379e-07,-9.901541793814887e-10,0.022774943423097126,1.242775713963525e-05,9.839407241157205e-07,-0.0003617054393560804,0.06181440962510678,3.0749429140856944e-05,-1.3204443692223752e-07,-0.00042830913524435693,-0.0002563372456530778,2371.7239660572423,1.2111313650287128,0.0006180311240087931,-0.011236623572181604,-5.699132770221844e-06,4.1199283983345607e-07,0.21841069675838534,0.00017405632369450294,-1.394291726122965e-06,-0.007643311991743021,-56.177708197704575,-0.027481014665316276,0.00013433365847732864,-0.2050355317528496,0.5062855594721636,709.5082398656316,0.3600427218397983,-0.015886941478160995,-0.9207554972104744,-22.210964686984923,-108.58691686450366,-190.62591194200914,-0.1158322406064418,-6.791494103812698e-05,-0.0029402346008562887,-2.2080032333938695e-06,1.3057304102744522e-08,1.1355355437483587,0.00044507511282893295,-4.8333248439463845e-05,-0.016167492770576473,0.5076921269447299,-5.768388449209567e-05,-0.0003767803797534011,0.05554864879044158,0.07029584019534604,133.36361477876187,0.05276263550316474,0.015580650413967462,0.8677269097655249,14.855024020426548,84.33430032315637,-190.62591194826973,-0.11583224061166156,-0.002940234600888525,1.1355355436619696,0.5076921270204989,133.36361478972282,-190.6259119402361,119.50723225656905,0.07572006258568577,4.569529050594784e-05,-0.002703786291846202,-7.700211332437703e-07,1.5738221201230813e-07,1.1708580438938452,0.000703965056490616,0.0002562350217473827,0.00013604150539902265,-12.713822189998403,-0.006062660415301666,0.001441318696809551,-0.07581019765751726,0.6602428869866053,680.9924993203431,0.3494376092423185,-0.06938715135881553,-0.304771413990691,-38.130763213881615,479.41557409223327,0.0,0.0,0.0,0.0,0.0,0.0,0.0,119.50723226173626,0.07572006258094657,-0.002703786291946556,1.1708580438777636,-12.713822189903475,680.9924993175151,0.0,119.50723225665612,158.19124484365065,0.09515675910133287,5.552827592586992e-05,-0.015715068157314452,-7.557886946417873e-06,2.0278000208572108e-07,1.590586280632651,0.0008676613214577839,-8.698904430085556e-05,0.0016955583043458322,-0.6671273952730893,-0.00011718953502165977,0.0005434443219531398,0.016838714972399117,-0.02253347878109905,183.51345777032964,0.1038996650179772,-0.002225576513092616,0.06658590195932954,-4.932674971697289,278.3434677973772,0.0,0.0,0.0,0.0,0.0,0.0,0.0,0.0,0.0,0.0,0.0,0.0,0.0,0.0,0.0,158.191244854658,0.09515675910442979,-0.015715068157106493,1.5905862806559816,-0.6671273951331,183.51345776861905,0.0,0.0,158.19124485724902,16.69581667099158,0.00826478540382748,4.09123218228057e-06,-0.00029904719125354944,-1.4887320143852717e-07,-2.1753843280650074e-08,0.05400421829398307,2.6821717733886057e-05,-1.3331591258702648e-06,0.0003584530706503525,0.2903498976681207,0.00014370828268812517,-5.4319560270027585e-06,0.0008819696754906373,0.004426925941416595,6.801908397905192,0.0033638072688972863,-0.00033315703740388543,-0.004038008306415968,0.12062768575636573,1.335429956243943,0.0,0.0,0.0,0.0,0.0,0.0,0.0,0.0,0.0,0.0,0.0,0.0,0.0,0.0,0.0,0.0,0.0,0.0,0.0,0.0,0.0,0.0,0.0,0.0,16.695816650030523,0.008264785404708097,-0.0002990471902823872,0.05400421835040843,0.290349897651059,6.801908396100365,0.0,0.0,0.0,16.695816645048904,-15.178630307275817,-0.02121107014316549,-1.721413609047879e-05,0.0052718800832742075,1.679100888313187e-06,1.1809429691827403e-07,0.86463006275656,0.000374536534063208,-9.349425606991845e-05,0.015352782755299835,-6.307486552328959,-0.003398484630569044,0.00015055188625482394,-0.10779954303033072,0.7910280632930814,503.35849174116896,0.24704089019761388,-0.01800491755141727,0.2178926429986723,-60.4806319708866,292.81806139344576,97.50177529784257,0.030549843852767936,0.005460362900728358,1.4501176560570495,-11.064100708020385,-100.94259041412846,97.5017752995876,-215.96082167352364,-0.10290143337707762,0.00276438748780967,-1.4521640129620919,21.922738400590898,660.18791189266,0.0,-215.9608216706579,-122.99915407686306,-0.05353785792067352,0.0009360488995600114,0.7600908259949791,-3.8943049053381285,610.969914048131,0.0,0.0,-122.99915406745251,21.829374263573246,0.010811973387710002,0.007231021531876347,0.15054740887152948,0.487582064259241,14.51886158214779,0.0,0.0,0.0,21.829374267292,-15.17863029126371,-0.021211070130025232,0.005271880083616954,0.8646300628560857,-6.307486552106707,503.3584917351449,97.50177529640457,-215.9608216653837,-122.99915407361024,21.829374268295336,-15.178630275651699,93.1680074675163,0.061733172879659945,3.835541294544306e-05,-0.013373819372332413,-6.5449198553838e-06,3.448692271074658e-08,2.7070003454789213,0.0014402480782440105,5.257400236660637e-05,-0.034039360888103644,-11.208970805496875,-0.0053680494953483445,0.00045000027263885603,0.04679793119124977,0.4901846243476459,377.6382571789974,0.19897398061758906,-0.0029563707352383054,-1.1963980393440905,-9.778392716488057,449.976447744448,-484.14742358685334,-0.2470538921559806,-0.0078874281859265,-0.22411528110073295,13.844534806329921,255.91630000097314,-484.14742359318365,403.7214839951071,0.2230243179141412,-0.005734616252886636,2.9813087923828214,-26.56888750790018,539.7741494647162,0.0,403.7214839935116,519.0594471277141,0.280830318808081,-0.02152214646852268,3.1925938088965724,-31.02163880318048,-46.84334545162828,0.0,0.0,519.0594471252105,-21.85199531909908,-0.010844662687947032,-0.0005603075726041914,-0.14567996885323314,-0.38676097933338904,-10.405712061380632,0.0,0.0,0.0,-21.851995327543573,0.0,0.0,0.0,0.0,0.0,0.0,0.0,0.0,0.0,0.0,0.0,93.16800744670476,0.06173317285439652,-0.013373819372648853,2.7070003456124496,-11.208970805162128,377.6382571755322,-484.1474235976661,403.72148399514,519.0594471256072,-21.851995329211253,0.0,93.16800745862231,-582.7971130565699,-0.2875123050831739,-0.00014182853064962584,-0.0017219479300139438,-1.0484609324244208e-06,7.989124814326342e-07,-6.8029413152907185,-0.0033164231086066517,-0.0006515719464616651,-0.03596643605835827,22.97481609204139,0.011449792303689635,-0.0010005129331155142,0.31289945764844845,-0.11631344486534834,164.44360108918877,0.0842201222046916,-0.030284589747168775,30.580433690079452,61.53485667283267,125.7552122527586,3182.7720845786016,1.5718095600502475,-0.0031720973768387217,-60.75824712466965,76.25206678523966,-5972.4891737768,3182.772084571001,-1472.9302839243544,-0.7305900546739567,0.0566525426008801,15.211784689103407,-25.211295176682853,2022.14427361784,0.0,-1472.9302839261848,-511.2814649195536,-0.25173671008697024,-0.005409986537010293,-9.71818812394166,31.590728065204672,-13.419446798583166,0.0,0.0,-511.2814649209726,34.07364803066886,0.01685271722461026,-0.0006448420907696547,0.0,0.42732882817905793,17.829159224880662,0.0,0.0,0.0,34.073648032676175,0.0,0.0,0.0,0.0,0.0,0.0,0.0,0.0,0.0,0.0,0.0,0.0,0.0,0.0,0.0,0.0,0.0,0.0,0.0,0.0,0.0,0.0,0.0,-582.7971130587143,-0.28751230508247166,-0.0017219479296649543,-6.802941315323915,22.974816092071713,164.44360108554562,3182.7720845709823,-1472.9302839151828,-511.2814649109188,34.07364803511046,0.0,0.0,-582.7971130634141,-425.02122792054223,-0.2182586200057439,-0.00011192924213861061,0.019826824174580305,9.329149955634461e-06,-2.0021249699668699e-07,2.505995602579204,0.0012353511523705404,-0.00021710401186476826,-0.19306954701076387,7.251549884971233,0.0035746510472379435,-0.001081690734323132,0.36568684370876264,0.0016665427281205417,473.790727713619,0.23284536567195396,-0.017166414728702152,10.114241296872617,6.93173522542064,922.4421253676619,1868.733728615889,0.9306081468821897,0.09012218792935356,-18.2197917307057,-138.03316844502118,-3596.1839344640453,1868.7337286241839,-2676.526630976807,-1.3276421780697476,-0.04306005069317285,0.0,-14.214161609223277,-1911.804736417795,0.0,-2676.526630977921,-778.9643265028462,-0.39576699304279445,0.011081308458427494,6.079835904950479,11.783737385338366,927.3333599256682,0.0,0.0,-778.9643265066089,10.215879378043775,0.005067400479751398,0.0003306644875335542,0.08172703488671354,0.18081202398741325,0.0,0.0,0.0,0.0,10.215879380494508,0.0,0.0,0.0,0.0,0.0,0.0,0.0,0.0,0.0,0.0,0.0,0.0,0.0,0.0,0.0,0.0,0.0,0.0,0.0,0.0,0.0,0.0,0.0,0.0,0.0,0.0,0.0,0.0,0.0,0.0,0.0,0.0,0.0,0.0,0.0,0.0,-425.0212279261853,-0.21825862000473245,0.019826824174638887,2.5059956025902403,7.251549885097041,473.7907277176901,1868.7337286229447,-2676.52663097378,-778.9643265027869,10.215879380973083,0.0,0.0,0.0,-425.02122793130485,886.8828038201972,0.44014664864427916,0.00021843801649551562,0.010604114098323604,5.276240791872425e-06,-5.772515227232189e-07,8.276781582312138,0.00410351094815902,0.00040730188388013195,0.0613094932033865,5.86500344625408,0.0029089309135688834,0.00010378961394757719,0.017580249749852773,0.015768204392240755,-523.8588266097727,-0.2597820625406794,-0.012281985850795693,0.0,-8.026494392779988,-210.3404753425727,0.0,0.0,0.0,0.0,0.0,0.0,0.0,0.0,0.0,0.0,0.0,0.0,0.0,0.0,0.0,886.8828038079013,0.4401466486437658,0.010604114098730416,8.276781582283741,5.865003446245849,-523.8588266079472,0.0,0.0,886.8828038098155,0.0,0.0,0.0,0.0,0.0,0.0,0.0,0.0,0.0,0.0,0.0,0.0,0.0,0.0,0.0,0.0,0.0,0.0,0.0,0.0,0.0,0.0,0.0,0.0,0.0,0.0,0.0,0.0,0.0,0.0,0.0,0.0,0.0,0.0,0.0,0.0,0.0,0.0,0.0,0.0,0.0,0.0,0.0,0.0,0.0,0.0,0.0,0.0,0.0,0.0,0.0,0.0,0.0,0.0,0.0,0.0,0.0,0.0,0.0,0.0,886.8828038143212,0.4401466486452357,0.010604114098733006,8.276781582260476,5.865003446256358,-523.858826609989,0.0,0.0,886.8828038131016,0.0,0.0,0.0,0.0,0.0,886.8828038131016,-189.46055446621793,-0.0984464646193984,-5.101541336096525e-05,-0.004180156787064007,-2.686549266142044e-06,-1.0841255795100788e-08,-0.1933655560377966,-0.00010136042677642184,-0.00019117001707802376,0.020714263080893597,5.25446007000108,0.0025535500894321413,-0.0007442463471437273,0.01863641603207917,0.12230721000490416,117.18446033951042,0.053868618725549634,0.0465087911230013,5.181078173924149,15.991999804780733,-708.1820949366622,-189.01769557706663,-0.09964929953773882,-0.001971628194724995,-0.5457801000113728,3.0779524056481216,507.40571743733597,-189.01769558617434,152.03877576174082,0.07606797978887361,-0.0324229353659534,7.054367148282726,17.39417854013078,-2657.7846578518374,0.0,152.03877575722237,-349.45845823240273,-0.16543571439025545,-0.011430106318706754,-2.7459019868516483,20.6680615644881,-243.24301103766254,0.0,0.0,-349.4584582345835,0.0,0.0,0.0,0.0,0.0,0.0,0.0,0.0,0.0,0.0,254.45547339316855,0.12176214115526851,0.005677944230230969,-1.7236534368949767,-1.2651022195260884,-1519.1126211883586,309.99111813529964,-784.3936720819228,230.1596076231362,0.0,254.4554733954995,-1026.667654984537,-0.5127231467617476,-0.012984079449552877,3.7813079744105007,16.098966922642813,1624.1459163437614,-1231.696100644055,1233.2062486645116,-1173.0995271212187,0.0,0.0,-1026.66765497961,1838.0448364619594,0.9034888546065373,-0.02884535967976845,-43.677912384309195,-115.47390644699644,-733.6168549203445,12290.709191074844,2824.9891269899554,1061.0911654920912,0.0,0.0,0.0,1838.0448364653646,-123.62492688454385,-0.06135232103132577,-0.006349508315311025,0.0,-1.8369231338492213,-61.81246344267885,0.0,0.0,-123.6249268813195,0.0,0.0,0.0,0.0,-123.6249268813195,-97.61013833782873,-0.048417727344911475,0.07525424747291862,0.0,-1.4503735264454671,-48.80506916855335,0.0,0.0,-97.61013833743341,0.0,0.0,0.0,0.0,0.0,-97.61013833743341,-189.46055448344484,-0.0984464646237453,-0.0041801567872732535,-0.19336555609527,5.254460069412647,117.18446032075201,-189.0176955781332,152.03877575869151,-349.45845825360374,0.0,254.45547339374463,-1026.6676549798995,1838.0448364635195,-123.62492687348927,-97.61013833722745,-189.46055447936234,-153.47050633425866,-0.07573487121612177,-3.7373500333531146e-05,-0.007194361399272076,-3.6256970181881343e-06,-2.3326654710640678e-07,2.577293486812817,0.0013066880738058322,8.552664400601012e-05,-0.012109895255525393,-11.218436831885446,-0.005609026545778134,0.0006573572592374235,-0.1055799526213911,0.28536682056719104,565.8037395566186,0.2823333636972657,-0.0038371779263269737,-2.186313708391475,6.575655637002678,93.24065763301962,-422.2223863172469,-0.2117733778824328,-0.01076483771930069,1.7508993731256255,-4.760358957729248,1711.0505409504851,-422.2223863179485,104.0355808562719,0.05256076584472518,0.004496281873922044,0.1415144361597214,-17.33863727493284,-58.985299673516785,0.0,104.03558085623203,655.4507143785545,0.33581048188608664,0.0017931531566089543,7.441329920107168,-26.528538861450887,-1643.2103323670924,0.0,0.0,655.4507143774623,0.0,0.0,0.0,0.0,0.0,0.0,0.0,0.0,0.0,0.0,-423.7048178739208,-0.21126653379741422,-0.00025007241699155874,3.453903979191655,0.5630954627533563,1890.4941403777336,-438.76063948403964,-379.23874197560394,-236.64007451366632,0.0,-423.70481787375047,202.34618025493637,0.1026692705999533,-0.007411377921483237,0.7560991782289934,-19.476847860276216,-334.2410631895345,-359.54654899523666,553.7482680131575,1362.3525074705885,0.0,0.0,202.34618025311073,1614.6133143076029,0.8025315422606482,-0.1936299808941955,10.570042729129817,-45.491779133802204,-2002.1459649982173,0.0,652.8069103130405,3270.2659219427514,0.0,0.0,0.0,1614.6133143073307,-844.1204227495919,-0.4196355673412981,-0.035820388292100595,16.15396393425386,56.23632092520002,-277.5160702984111,2110.4358865637064,-2676.526630971291,-2078.2498535547516,0.0,0.0,0.0,0.0,-844.1204227412154,0.0,0.0,0.0,0.0,0.0,0.0,0.0,0.0,0.0,0.0,0.0,0.0,0.0,0.0,0.0,0.0,0.0,0.0,0.0,0.0,0.0,0.0,0.0,0.0,0.0,0.0,0.0,0.0,0.0,0.0,0.0,-153.47050633440344,-0.07573487121991289,-0.007194361399036105,2.5772934868701367,-11.218436831720446,565.8037395451903,-422.2223863132735,104.03558085546506,655.4507143754788,0.0,-423.7048178791824,202.3461802565796,1614.613314305358,-844.1204227436903,0.0,0.0,-153.47050632685662,-250.58434451567229,-0.14700320609488063,-8.405260825298631e-05,0.005186621360463114,1.5671677359332962e-06,-3.2597223421207335e-08,-0.18683790716203838,-0.000282932443475353,5.267711565247397e-07,0.009168414373024056,10.088208169097209,0.0046457590058834805,-0.0004436046211073333,0.13488841298831217,0.15825223860136053,-329.86937219192316,-0.17911002086129332,0.012793967968055413,-1.6048001562010226,3.8744014464992613,-245.85646238035204,-265.73462122506794,-0.15555408470585536,0.006827719043909956,0.850478910240066,3.3838388475543315,-58.661908334053436,-265.7346212240681,-418.0507193275323,-0.2381337921157135,-0.036631982444331294,-1.9379600325650497,30.34855545881183,175.54280431317198,0.0,-418.05071932798774,30.151198339808694,0.01207303636794823,-0.003611841770475553,-6.02899471895108,69.17729139960792,-2580.4707062309612,0.0,0.0,30.15119833500509,-1.7071996575965334,-0.0008455669492149359,-0.0005690665672098015,-0.011773790993160399,-0.038107135602880975,-1.2194283392921912,0.0,0.0,0.0,-1.7071996541384447,-432.72287666205966,-0.24191630835962225,0.016568696645046687,0.4881158719442676,27.528422659915293,-433.6295659045652,-466.0553806345405,-174.95124462848818,-107.20706644173741,-1.7071996501360576,-432.7228766628713,435.29160107666235,0.2140711144346175,-0.0116799016330276,-3.6817925231900475,-25.58611321176841,-35.50954730589616,495.1079937998216,-2131.909546903845,421.1098433625469,0.0,0.0,435.2916010733899,-1891.679010167194,-0.9392646525269331,-0.029208804431302113,0.0,-8.036019584397167,0.0,0.0,0.0,-1891.67901016837,0.0,0.0,0.0,-1891.67901016837,-304.80788484056666,-0.1511943873268883,-0.014043857578173079,0.0,-4.639389419395013,-304.8078848402845,-304.8078848402845,0.0,0.0,0.0,0.0,0.0,0.0,-304.80788483611997,-3447.907025115517,-1.71112011171799,-0.10005243681647782,0.0,-14.647013700611273,-2462.7907322464102,0.0,0.0,-3447.9070251162043,0.0,0.0,0.0,0.0,0.0,-3447.9070251162043,0.0,0.0,0.0,0.0,0.0,0.0,0.0,0.0,0.0,0.0,0.0,0.0,0.0,0.0,0.0,0.0,0.0,0.0,0.0,0.0,0.0,0.0,0.0,0.0,0.0,0.0,0.0,0.0,0.0,0.0,0.0,0.0,0.0,-250.58434452031668,-0.14700320608107048,0.005186621360294057,-0.18683790711582965,10.088208169259739,-329.86937219975187,-265.73462121856676,-418.05071932297915,30.151198344813324,-1.7071996499471773,-432.72287666865384,435.2916010725702,-1891.679010168536,-304.8078848331137,-3447.907025111271,0.0,0.0,-250.58434452359478,85.14638402025717,0.05924198962490054,3.7891480920983084e-05,-0.017351607063408516,-8.387860722256285e-06,5.43218156546714e-07,1.0271449839664017,0.0005536842192681345,-0.00015734910042012384,0.012761081596379972,-8.125348322122369,-0.003730753678510382,0.0004785196959686347,0.04902632572976453,0.2887146030705362,930.932652953881,0.47542595643537355,-0.020293412924487417,-0.02814812011572987,-9.157823907528048,-209.79981410557855,-477.0873542005013,-0.24630084345142242,-0.002970942465316953,-4.160002913317429,92.32313833387818,-1871.056091225222,-477.08735420649185,29.073702364207126,0.03394086608254747,-0.00814078757951707,3.981620598920787,-16.99478647380908,1059.5794494166848,0.0,29.073702364765946,317.15690723681075,0.17545526943670653,-0.026557037023829572,-1.6352073624242671,-29.627752425733245,1126.909328550247,0.0,0.0,317.156907238915,-5.818132347750351,-0.0028847205408627776,-0.0002167702199325934,-0.052481036843443976,-0.10297579371772891,-10.405712065390285,0.0,0.0,0.0,-5.818132348954542,-454.51687838440614,-0.2146190369095695,-0.011237531328028103,-3.0314675432733127,22.664884126813313,2150.9962576147927,538.9551328378608,-655.4419077078524,-505.8494892153014,0.0,-454.5168783896513,347.1424438638228,0.19030041314038051,-0.014309612766929087,3.625765892522094,-9.802280169817383,123.19334786847182,-1005.1937843529194,354.61520249420334,663.3261857033608,-21.85199532930968,0.0,347.14244386133487,-1817.140905077352,-0.877534562443564,-0.10173013817688173,-18.542020158869516,-58.39293601503169,9125.786868154228,0.0,-2121.1114499221612,-1641.588601044292,0.0,0.0,0.0,-1817.1409050684028,1131.3218155782113,0.5581417364443026,-0.02143506789688611,60.273435888575484,-12.731907498404942,2891.2194120585827,0.0,0.0,1318.1558309165484,10.215879383670982,0.0,0.0,0.0,1131.321815584804,0.0,0.0,0.0,0.0,0.0,0.0,0.0,0.0,0.0,0.0,0.0,0.0,0.0,0.0,0.0,0.0,0.0,0.0,0.0,0.0,0.0,0.0,0.0,0.0,0.0,0.0,0.0,0.0,0.0,0.0,0.0,0.0,0.0,0.0,0.0,0.0,0.0,0.0,0.0,0.0,0.0,0.0,0.0,0.0,0.0,0.0,0.0,0.0,0.0,0.0,0.0,0.0,0.0,0.0,0.0,0.0,0.0,0.0,0.0,0.0,0.0,0.0,0.0,0.0,0.0,0.0,85.14638401276008,0.05924198961692166,-0.01735160706310969,1.0271449840905236,-8.12534832230002,930.9326529535938,-477.0873542090322,29.07370235990867,317.1569072289614,-5.818132344197766,-454.516878386107,347.1424438547413,-1817.1409050685643,1131.3218155851807,0.0,0.0,0.0,0.0,85.14638400939495,457.4610350193275,0.24544747315529675,0.00013094216807108192,-0.011158972067775889,-5.401060487033802e-06,5.081211184000747e-07,0.902500170102441,0.0005919573577939738,-5.9030246773181095e-05,-0.002895860906228593,-2.8843641851020054,-0.0012220651321568493,3.360906292935515e-05,-0.09217520443811615,-0.00317353163171126,411.89099540425,0.21520302583726525,-0.018908893534506466,3.254868910203407,-21.901120243489643,-15.5392112314945,183.5772448387343,0.08038267611581709,-0.007092423576955592,10.669216646222583,53.883010269679296,-1754.7880258346693,183.5772448356473,490.69958321521017,0.26619677657083063,-0.003977870454468617,-1.8717591751108373,-17.85698863430966,785.6956960605231,0.0,490.6995832062302,506.7289638248632,0.2808184468411363,-0.01626610323749673,-0.8034215195165444,-16.63551336555065,832.4778726237865,0.0,0.0,506.7289638225202,0.0,0.0,0.0,0.0,0.0,0.0,0.0,0.0,0.0,0.0,548.7830619388585,0.28084816332111207,-0.002512352652734433,1.746856118551952,-52.53958829486548,-498.8408527805894,462.67916866397957,768.2932870602664,165.43418060786811,0.0,548.7830619439127,484.0921381432947,0.26329283096443545,-0.011062851628420606,0.01889210606447849,-43.837599730664586,789.2731859756786,24.890960990973166,535.7682356066916,658.6594255442127,0.0,0.0,484.0921381478198,-2741.1198940014638,-1.3627589012691275,-0.08189835452324551,4.154182423656145,119.65905693090355,2699.1574912696365,0.0,-5729.468467229651,-1067.0083152293294,0.0,0.0,0.0,-2741.119894004165,4748.912066674161,2.336618780640741,0.06285139574201247,6.8624137214643826,-27.66447687779688,-3767.934445364192,0.0,0.0,4748.912066672111,0.0,0.0,0.0,0.0,4748.912066672111,4038.707698343685,2.0024711599348683,0.1798888717090655,8.276781582262931,8.578393581904782,0.0,0.0,0.0,4038.707698346423,0.0,0.0,0.0,0.0,0.0,4038.707698346423,0.0,0.0,0.0,0.0,0.0,0.0,0.0,0.0,0.0,0.0,0.0,0.0,0.0,0.0,0.0,0.0,0.0,0.0,0.0,0.0,0.0,0.0,0.0,0.0,0.0,0.0,0.0,0.0,0.0,0.0,0.0,0.0,0.0,0.0,0.0,0.0,0.0,0.0,0.0,0.0,0.0,0.0,0.0,0.0,0.0,0.0,0.0,0.0,0.0,0.0,0.0,0.0,0.0,0.0,0.0,0.0,0.0,0.0,0.0,0.0,0.0,0.0,0.0,0.0,0.0,0.0,0.0,0.0,0.0,0.0,457.46103499370884,0.2454474731512813,-0.011158972067974832,0.9025001699584771,-2.8843641852099133,411.8909954000611,183.5772448455787,490.6995831839339,506.72896382147917,0.0,548.7830619404499,484.0921381445617,-2741.1198939972564,4748.912066672948,4038.7076983449174,0.0,0.0,0.0,0.0,457.461035005623,339.10402810418293,0.18424139195021583,9.932510878988459e-05,-0.003890540082105057,-1.5041663275099836e-06,-4.5660425349853426e-08,5.616046038199967,0.002944216891394465,6.735784107311134e-05,-0.03344270013498951,-16.165635897199426,-0.007817390262838994,0.0007910346574012958,-0.045354707237593474,1.4808100212537214,-310.1199682680756,-0.14243795897524938,-0.027498906101061996,-6.627854253381528,-58.667684280212285,2107.9815600271754,662.6404581585082,0.3331578680537892,-0.009360828103860913,3.4692549768494096,-28.852624716469922,-762.6730536159293,662.6404581585944,148.12850553697606,0.09167059273813806,0.024932264650476918,1.5483694774913468,-13.034984196161561,50.390490726913406,0.0,148.1285055361362,-14.482919914400432,0.01983018378508635,-0.016109717472561066,11.175777915804117,13.168005126567046,-296.79456453077006,0.0,0.0,-14.482919916311262,0.0,0.0,0.0,0.0,0.0,0.0,0.0,0.0,0.0,0.0,430.6016772719171,0.22698931979935838,-0.011474689896368578,5.202464136728059,-13.522083446331049,-55.2064100628367,825.9325473989062,286.7363774877438,-238.35257267158204,0.0,430.60167727481013,239.57413746831182,0.13538758989928265,-0.00020700351996068763,4.9373324602427076,-11.446566625879587,-458.53787613151644,459.92475799838843,36.5734432002374,150.01918562309564,0.0,0.0,239.57413746282825,-3799.594013411494,-1.849860775961215,-0.11354705703248706,244.67220249271847,-147.13054299294953,5902.346200254403,0.0,-3962.2949592009218,-3619.5570855238075,0.0,0.0,0.0,-3799.5940134019843,0.0,0.0,0.0,0.0,0.0,0.0,0.0,0.0,0.0,0.0,0.0,0.0,0.0,0.0,0.0,0.0,0.0,0.0,0.0,0.0,0.0,0.0,0.0,0.0,0.0,0.0,0.0,0.0,0.0,0.0,0.0,0.0,0.0,0.0,0.0,0.0,0.0,0.0,0.0,0.0,0.0,0.0,0.0,0.0,0.0,0.0,0.0,0.0,0.0,0.0,0.0,0.0,0.0,0.0,0.0,0.0,0.0,0.0,0.0,0.0,0.0,0.0,0.0,0.0,0.0,0.0,0.0,0.0,0.0,0.0,0.0,0.0,0.0,0.0,0.0,0.0,0.0,0.0,0.0,0.0,0.0,0.0,0.0,0.0,0.0,0.0,0.0,0.0,0.0,0.0,0.0,0.0,0.0,0.0,0.0,0.0,0.0,0.0,0.0,0.0,0.0,0.0,0.0,0.0,0.0,0.0,0.0,0.0,0.0,0.0,0.0,0.0,0.0,0.0,0.0,0.0,0.0,0.0,0.0,339.10402809618176,0.1842413919554746,-0.003890540081769745,5.616046038335641,-16.1656358972271,-310.11996826428015,662.6404581577774,148.12850553806854,-14.48291990889059,0.0,430.6016772783528,239.57413746925894,-3799.594013401058,0.0,0.0,0.0,0.0,0.0,0.0,0.0,339.1040280946313,-255.77800104265225,-0.14514934633495352,-8.10197143126978e-05,0.010064168212701048,4.1187941970333116e-06,-5.22518517915387e-07,-5.940408709606393,-0.0030850292200891765,0.0003071098198051144,-0.019310938034456136,9.214794333172616,0.0043329715364847365,0.00023164217367485648,0.11266837104825088,-0.5018187997680541,-138.09933880139002,-0.0782416559386883,-0.011093288207541463,10.284510679729587,12.919363834867559,733.5725999351149,151.1804986652539,0.04899947864451996,0.013945989343071586,-1.9048686551084926,-10.037706595541778,-1732.2368849428328,151.18049866619617,-2594.826820059884,-1.300419092463407,-0.05794877705593346,-7.3185672841593465,102.55390147502946,4952.5838423695495,0.0,-2594.826820060133,-565.9587154005362,-0.2871815750578037,0.007797996825202072,-11.992476723638388,20.714030275820168,659.877668393492,0.0,0.0,-565.9587154003871,232.77118218013018,0.11551919711344036,0.013910905525260997,0.0,2.9842459255613636,155.18078813543974,0.0,0.0,0.0,232.77118218768797,285.4215015323809,0.11546213389574939,0.004558860148913837,-4.56957519680129,-4.470213664089451,-230.50007808293032,463.31621078823827,-2383.060184203637,314.2416374686812,0.0,285.42150153379606,-2983.982879451984,-1.508666630870802,-0.03372611334565644,-7.051016477669537,195.84289204966186,2827.7474490466443,-2553.231365433343,-4331.060604943869,-4112.0492327028915,0.0,0.0,-2983.982879457442,-464.805694278967,-0.23024710223050718,0.04709553703906988,-8.11723888500361,-4.7461795641905535,-1156.1949754251582,-6363.018504776044,0.0,-457.97056679347304,232.77118218446262,0.0,0.0,-464.8056942724171,-2143.260212293392,-1.0715784580835943,0.015431479195354444,-14.324633266706131,118.29880727776116,3141.7729117466893,1542.3587851738182,0.0,-2318.7261557581987,0.0,0.0,0.0,0.0,-2143.260212295375,0.0,0.0,0.0,0.0,0.0,0.0,0.0,0.0,0.0,0.0,0.0,0.0,0.0,0.0,0.0,0.0,0.0,0.0,0.0,0.0,0.0,0.0,0.0,0.0,0.0,0.0,0.0,0.0,0.0,0.0,0.0,0.0,0.0,0.0,0.0,0.0,0.0,0.0,0.0,0.0,0.0,0.0,0.0,0.0,0.0,0.0,0.0,0.0,0.0,0.0,0.0,0.0,0.0,0.0,0.0,0.0,0.0,0.0,0.0,0.0,0.0,0.0,0.0,0.0,0.0,0.0,0.0,0.0,0.0,0.0,0.0,0.0,0.0,0.0,0.0,0.0,0.0,0.0,0.0,0.0,0.0,0.0,0.0,0.0,0.0,0.0,0.0,0.0,0.0,0.0,0.0,0.0,0.0,0.0,0.0,0.0,0.0,0.0,0.0,0.0,0.0,0.0,0.0,0.0,0.0,0.0,0.0,0.0,0.0,0.0,0.0,0.0,0.0,0.0,0.0,0.0,0.0,0.0,0.0,0.0,0.0,0.0,0.0,0.0,0.0,0.0,-255.7780010599914,-0.14514934633422502,0.010064168212774572,-5.940408709724674,9.214794333451119,-138.0993388021908,151.18049867244156,-2594.8268200674856,-565.9587153945471,232.77118217924863,285.4215015345227,-2983.98287943892,-464.8056942740065,-2143.2602122968406,0.0,0.0,0.0,0.0,0.0,0.0,0.0,-255.7780010743518,-73.86660278009433,-0.03851224122225991,-2.0033675228268314e-05,-0.005691841890492218,-2.7514499517845677e-06,-4.297922096415274e-08,2.6963359197238743,0.001345806859598848,-3.3924787751817325e-05,-0.06463837870520725,-7.179242634208112,-0.0036066148329014706,5.609028766607014e-06,0.03868296739126448,-0.23093099740037393,294.57956170681337,0.14547156295907412,0.015525391100984475,2.0660965952469557,11.936038612063596,-2.12192056189437,27.520922732099567,0.010078158625987578,-0.003721305723209215,-2.1268946100694355,-31.854045832044545,1523.010122420995,27.520922731064946,-534.0619021379772,-0.2636730561962545,-0.02215744863039528,5.3395111748419275,49.413026939239096,-536.7098453336602,0.0,-534.0619021385877,207.67881021756097,0.10301101558524622,0.008057865669089738,11.133551117393624,9.203708477840113,-1487.7730436263992,0.0,0.0,207.67881022000313,45.365390446733215,0.022469237460317818,0.012961540119785184,0.31286476145141456,0.9631717713164332,45.365390446288906,0.0,0.0,0.0,45.365390448586155,46.61517618005926,0.01800355348153129,0.006752352046403268,4.635633971864507,-22.744810596564296,517.2469305786816,283.4638090699744,-602.0461844023081,68.39252484560784,45.36539044873876,46.61517618903758,-314.0411355625957,-0.15108008334195183,-0.014149816884479584,-1.5840281473120517,21.036631559549434,74.80216300826645,-573.6160125041936,-418.9000012586933,382.31796938042555,0.0,0.0,-314.0411355571697,726.8574056145735,0.3598303988022921,0.35632569498901306,-5.5673276628173545,-33.28027973265286,519.1838611573887,0.0,428.44311391373645,2815.1771194078874,0.0,0.0,0.0,726.8574056169083,-378.22680166010736,-0.1876712525154408,0.012264333407440584,18.803907539439784,2.490246016345071,-262.28906852594844,1495.23771458863,0.0,-3188.358673325624,0.0,0.0,0.0,0.0,-378.2268016613788,0.0,0.0,0.0,0.0,0.0,0.0,0.0,0.0,0.0,0.0,0.0,0.0,0.0,0.0,0.0,0.0,0.0,0.0,0.0,0.0,0.0,0.0,0.0,0.0,0.0,0.0,0.0,0.0,0.0,0.0,0.0,0.0,0.0,0.0,0.0,0.0,0.0,0.0,0.0,0.0,0.0,0.0,0.0,0.0,0.0,0.0,0.0,0.0,0.0,0.0,0.0,0.0,0.0,0.0,0.0,0.0,0.0,0.0,0.0,0.0,0.0,0.0,0.0,0.0,0.0,0.0,0.0,0.0,0.0,0.0,0.0,0.0,0.0,0.0,0.0,0.0,0.0,0.0,0.0,0.0,0.0,0.0,0.0,0.0,0.0,0.0,0.0,0.0,0.0,0.0,0.0,0.0,0.0,0.0,0.0,0.0,0.0,0.0,0.0,0.0,0.0,0.0,0.0,0.0,0.0,0.0,0.0,0.0,0.0,0.0,0.0,0.0,0.0,0.0,0.0,0.0,0.0,0.0,0.0,0.0,0.0,0.0,0.0,0.0,0.0,0.0,0.0,0.0,0.0,0.0,0.0,0.0,0.0,0.0,0.0,0.0,0.0,0.0,0.0,0.0,0.0,0.0,0.0,0.0,0.0,0.0,0.0,0.0,-73.86660278873818,-0.038512241234904966,-0.005691841891142485,2.696335919535364,-7.17924263393562,294.57956171458846,27.520922731790957,-534.0619021443649,207.67881021609847,45.365390446038774,46.61517618789149,-314.0411355508606,726.8574056065987,-378.22680164900476,0.0,0.0,0.0,0.0,0.0,0.0,0.0,0.0,-73.86660278150383,235.46495882010785,0.10903216535473231,5.02506624261949e-05,-0.0057890600254764295,-3.398373684377886e-06,-9.345285577789797e-08,-1.3740725543430161,-0.0007365822492300435,0.00026702429081822436,0.012922171108283299,-3.6726250318527858,-0.001946203167688538,0.0007022455903781295,-0.04729638654152648,-0.5780236675807865,-173.01749972107862,-0.09112181959909431,-0.021479597521272292,-0.7470965167703726,18.613274671260996,-596.157021287568,291.88675314598606,0.1318772678563898,0.0034394120796719715,-0.7182935459296316,-8.225288680186917,-625.9094934477424,291.88675314704415,450.94521113225295,0.23992630156943787,-0.031001578687126448,-19.14349739325661,-150.37174159188572,4857.30083247309,0.0,450.9452111311547,-286.022929204179,-0.1424066317944443,-0.057121461167770164,11.059288267181266,95.44361642740733,-2935.532271431023,0.0,0.0,-286.0229292053799,-164.62475677429524,-0.08161862013469821,-0.0059262304901778265,0.0,-2.0971306595017705,-102.89047299666142,0.0,0.0,0.0,-164.624756775276,262.48860856339184,0.11920923085122323,0.00034485337814790047,-3.4360367800848444,-48.38002877855152,1097.8223514359688,387.9847737610345,-386.68936560965096,-837.3042505829656,0.0,262.4886085645812,143.06571929183983,0.06792347107352169,-0.015271398853817153,6.405515661288298,72.90781766700928,-1279.1660762607603,-25.059515403733144,326.82346608049016,674.1997837273261,0.0,0.0,143.0657192902388,355.39404578664374,0.17551848672850384,0.10423121038496447,-21.92333993086145,-35.50789236950266,276.7200536689074,3708.0824510329526,6357.009517744528,-721.1832101105956,-164.62475676507722,0.0,0.0,355.3940457855058,508.042162550808,0.2518801004038538,0.009288130507826762,3.628872589497736,6.4718746821880355,317.5263515804977,0.0,0.0,508.04216254971465,0.0,0.0,0.0,0.0,508.04216254971465,0.0,0.0,0.0,0.0,0.0,0.0,0.0,0.0,0.0,0.0,0.0,0.0,0.0,0.0,0.0,0.0,0.0,0.0,0.0,0.0,0.0,0.0,0.0,0.0,0.0,0.0,0.0,0.0,0.0,0.0,0.0,0.0,0.0,0.0,0.0,0.0,0.0,0.0,0.0,0.0,0.0,0.0,0.0,0.0,0.0,0.0,0.0,0.0,0.0,0.0,0.0,0.0,0.0,0.0,0.0,0.0,0.0,0.0,0.0,0.0,0.0,0.0,0.0,0.0,0.0,0.0,0.0,0.0,0.0,0.0,0.0,0.0,0.0,0.0,0.0,0.0,0.0,0.0,0.0,0.0,0.0,0.0,0.0,0.0,0.0,0.0,0.0,0.0,0.0,0.0,0.0,0.0,0.0,0.0,0.0,0.0,0.0,0.0,0.0,0.0,0.0,0.0,0.0,0.0,0.0,0.0,0.0,0.0,0.0,0.0,0.0,0.0,0.0,0.0,0.0,0.0,0.0,0.0,0.0,0.0,0.0,0.0,0.0,0.0,0.0,0.0,0.0,0.0,0.0,0.0,0.0,0.0,0.0,0.0,0.0,0.0,0.0,0.0,0.0,0.0,0.0,0.0,0.0,0.0,0.0,0.0,0.0,0.0,0.0,0.0,0.0,0.0,0.0,0.0,0.0,0.0,0.0,0.0,0.0,0.0,0.0,0.0,0.0,0.0,0.0,0.0,0.0,0.0,0.0,0.0,0.0,235.4649587873017,0.1090321653563329,-0.005789060025422862,-1.3740725543510328,-3.6726250317817972,-173.01749969765459,291.88675314228277,450.94521113192246,-286.0229292122018,-164.6247567656364,262.48860856066096,143.06571927886102,355.39404578706143,508.0421625490666,0.0,0.0,0.0,0.0,0.0,0.0,0.0,0.0,0.0,235.46495878872102]\n",
            "Intercepto polinomial grado 3: -1413108.2770243431\n"
          ]
        }
      ]
    },
    {
      "cell_type": "markdown",
      "source": [
        "9. Calcule el valor de MSE y R^2 del modelo."
      ],
      "metadata": {
        "id": "9VKLEFpCXd5e"
      }
    },
    {
      "cell_type": "code",
      "source": [
        "from pyspark.ml.evaluation import RegressionEvaluator\n",
        "\n",
        "# Predecir con el modelo polinomial grado 3 sobre el conjunto de prueba\n",
        "predictions_poly3 = lr_poly3_model.transform(test_poly3)\n",
        "\n",
        "# Crear evaluadores para MSE y R2\n",
        "evaluator_mse = RegressionEvaluator(labelCol=\"label\", predictionCol=\"prediction\", metricName=\"mse\")\n",
        "evaluator_r2 = RegressionEvaluator(labelCol=\"label\", predictionCol=\"prediction\", metricName=\"r2\")\n",
        "\n",
        "# Calcular métricas\n",
        "mse_poly3 = evaluator_mse.evaluate(predictions_poly3)\n",
        "r2_poly3 = evaluator_r2.evaluate(predictions_poly3)\n",
        "\n",
        "print(f\"MSE modelo polinomial grado 3: {mse_poly3}\")\n",
        "print(f\"R² modelo polinomial grado 3: {r2_poly3}\")\n"
      ],
      "metadata": {
        "colab": {
          "base_uri": "https://localhost:8080/"
        },
        "id": "PKKRWiguXcCE",
        "outputId": "c2706382-7954-4585-e4f9-f007cae1c607"
      },
      "execution_count": 23,
      "outputs": [
        {
          "output_type": "stream",
          "name": "stdout",
          "text": [
            "MSE modelo polinomial grado 3: 11075720.635062357\n",
            "R² modelo polinomial grado 3: 0.8860515662245492\n"
          ]
        }
      ]
    },
    {
      "cell_type": "markdown",
      "source": [
        "10. Concluya cuál de los tres modelos tiene un mejor desempeño. Explique el por qué."
      ],
      "metadata": {
        "id": "qcYZYQRMYBLD"
      }
    },
    {
      "cell_type": "markdown",
      "source": [
        "| Modelo                       | MSE           | R²     |\n",
        "| ---------------------------- | ------------- | ------ |\n",
        "| Regresión Lineal (grado 1)   | 22,696,920.33 | 0.7665 |\n",
        "| Regresión Polinomial grado 2 | 13,211,241.71 | 0.8641 |\n",
        "| Regresión Polinomial grado 3 | 11,075,720.64 | 0.8861 |\n",
        "\n",
        "<br>\n",
        "\n",
        "- Tras analizar los tres modelos generados para predecir el precio de autos usados, se concluye que el modelo de regresión polinomial de grado 3 presenta el mejor desempeño. Este modelo obtuvo el menor valor de Error Cuadrático Medio (MSE = 11,075,720.64) y el mayor coeficiente de determinación (R² = 0.8861), indicando una mejor capacidad para explicar la variabilidad del precio y un ajuste más preciso a los datos.\n",
        "\n",
        "- Esto se debe a que el modelo de grado 3 permitió capturar relaciones no lineales y complejas entre las variables predictoras y el precio, mejorando sustancialmente la precisión del modelo.\n",
        "\n"
      ],
      "metadata": {
        "id": "QimjXDf6YjAS"
      }
    },
    {
      "cell_type": "markdown",
      "source": [
        "11. ¿El mejor modelo obtenido es un buen modelo para usarlo en la práctica? Explique el por qué."
      ],
      "metadata": {
        "id": "3HbNF39BZohC"
      }
    },
    {
      "cell_type": "markdown",
      "source": [
        "El modelo polinomial de grado 3 presenta un buen desempeño estadístico con un R² alto (0.886), lo que indica que explica bien la variabilidad del precio de los autos usados. Sin embargo, para usarlo en la práctica, es importante considerar que modelos tan complejos pueden sobreajustar los datos y ser menos interpretables. Por lo que es necesario validar su rendimiento con datos nuevos o mediante técnicas de validación cruzada.\n",
        "\n"
      ],
      "metadata": {
        "id": "ZDooeFoPZnJP"
      }
    },
    {
      "cell_type": "markdown",
      "source": [
        "12. Si quisieramos mejorar el rendimiento del mejor modelo, qué acciones tomaría."
      ],
      "metadata": {
        "id": "jcSNCsVpZ9F5"
      }
    },
    {
      "cell_type": "markdown",
      "source": [
        "Para mejorar el rendimiento del modelo se podrían considerar varias acciones:\n",
        "\n",
        "- Aumentar la cantidad y calidad de datos: Más datos diversos y limpios ayudarán a que el modelo aprenda patrones más robustos y generales.\n",
        "<br><br>\n",
        "- Realizar ingeniería de características: Crear nuevas variables relevantes o transformar las existentes para capturar mejor las relaciones no lineales o interacciones.\n",
        "<br><br>\n",
        "- Regularización: Aplicar técnicas como Ridge o Lasso para evitar el sobreajuste y mejorar la generalización.\n",
        "<br><br>\n",
        "- Validación cruzada: Utilizar métodos como k-fold para ajustar hiperparámetros y evaluar el rendimiento de forma más fiable.\n",
        "<br><br>\n",
        "- Explorar otros modelos: Probar modelos más complejos o distintos (árboles, ensambles, redes neuronales) que puedan capturar relaciones más complejas.\n",
        "<br><br>\n",
        "- Optimización de hiperparámetros: Ajustar parámetros del modelo para mejorar su capacidad predictiva."
      ],
      "metadata": {
        "id": "QdQjtuCNZ8fM"
      }
    },
    {
      "cell_type": "markdown",
      "source": [
        "#APLICACIÓN DE VALIDACIÓN CRUZADA PARA MEJORAR EL MODELO"
      ],
      "metadata": {
        "id": "MSCIblCxa0y2"
      }
    },
    {
      "cell_type": "code",
      "source": [
        "from pyspark.ml import Pipeline\n",
        "from pyspark.ml.tuning import CrossValidator, ParamGridBuilder\n",
        "from pyspark.ml.evaluation import RegressionEvaluator\n",
        "from pyspark.ml.feature import PolynomialExpansion\n",
        "from pyspark.ml.regression import LinearRegression\n",
        "\n",
        "# 1. Crear etapas pipeline\n",
        "polyExpansion3 = PolynomialExpansion(degree=3, inputCol=\"features\", outputCol=\"polyFeatures3\")\n",
        "lr = LinearRegression(featuresCol=\"polyFeatures3\", labelCol=\"label\")\n",
        "\n",
        "pipeline = Pipeline(stages=[polyExpansion3, lr])\n",
        "\n",
        "# 2. Crear grid de hiperparámetros para regParam y elasticNetParam\n",
        "paramGrid = ParamGridBuilder() \\\n",
        "    .addGrid(lr.regParam, [0.0, 0.01, 0.1]) \\\n",
        "    .addGrid(lr.elasticNetParam, [0.0, 0.5, 1.0]) \\\n",
        "    .build()\n",
        "\n",
        "# 3. Definir evaluador\n",
        "evaluator = RegressionEvaluator(labelCol=\"label\", predictionCol=\"prediction\", metricName=\"rmse\")\n",
        "\n",
        "# 4. Crear CrossValidator\n",
        "crossval = CrossValidator(estimator=pipeline,\n",
        "                          estimatorParamMaps=paramGrid,\n",
        "                          evaluator=evaluator,\n",
        "                          numFolds=5)  # 5-fold CV\n",
        "\n",
        "# 5. Ajustar CrossValidator con datos de entrenamiento\n",
        "cvModel = crossval.fit(train_df)\n",
        "\n",
        "# 6. Evaluar mejor modelo en test\n",
        "predictions = cvModel.transform(test_df)\n",
        "rmse = evaluator.evaluate(predictions)\n",
        "r2 = RegressionEvaluator(labelCol=\"label\", predictionCol=\"prediction\", metricName=\"r2\").evaluate(predictions)\n",
        "\n",
        "print(f\"Mejor RMSE en validación cruzada: {rmse}\")\n",
        "print(f\"R² en test con mejor modelo: {r2}\")\n"
      ],
      "metadata": {
        "colab": {
          "base_uri": "https://localhost:8080/"
        },
        "id": "BRbkLxrRYCQJ",
        "outputId": "c1f2c51c-30c9-4b20-9bfe-02e7e7198ec9"
      },
      "execution_count": 24,
      "outputs": [
        {
          "output_type": "stream",
          "name": "stdout",
          "text": [
            "Mejor RMSE en validación cruzada: 3328.020528041009\n",
            "R² en test con mejor modelo: 0.8860515662245492\n"
          ]
        }
      ]
    },
    {
      "cell_type": "markdown",
      "source": [
        "El modelo actual es muy bueno, y la regularización con validación cruzada ayudó a reducir el error de predicción y evitar el sobreajuste, pero para mejorar aún más conviene explorar nuevas variables, probar otros algoritmos y ampliar el dataset."
      ],
      "metadata": {
        "id": "7YCEdl5JmUf6"
      }
    },
    {
      "cell_type": "code",
      "source": [],
      "metadata": {
        "id": "N2pUxqwYmp7g"
      },
      "execution_count": null,
      "outputs": []
    }
  ]
}